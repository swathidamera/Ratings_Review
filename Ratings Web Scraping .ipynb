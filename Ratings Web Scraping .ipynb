{
 "cells": [
  {
   "cell_type": "code",
   "execution_count": null,
   "metadata": {},
   "outputs": [],
   "source": [
    "#import all the required libraries\n",
    "import selenium\n",
    "import pandas as pd\n",
    "from selenium import webdriver\n",
    "import time\n",
    "from selenium.common.exceptions import NoSuchElementException\n",
    "\n",
    "import warnings\n",
    "warnings.filterwarnings('ignore')\n",
    "\n",
    "pd.set_option('display.max_rows', None)\n",
    "pd.options.display.max_colwidth = 500"
   ]
  },
  {
   "cell_type": "code",
   "execution_count": null,
   "metadata": {},
   "outputs": [],
   "source": [
    "#Connect to the web driver\n",
    "driver=webdriver.Chrome(r\"C:\\Users\\dravi\\Downloads\\chromedriver_win32\\chromedriver.exe\")\n",
    "    "
   ]
  },
  {
   "cell_type": "code",
   "execution_count": null,
   "metadata": {},
   "outputs": [],
   "source": [
    "url='https://www.flipkart.com/'"
   ]
  },
  {
   "cell_type": "code",
   "execution_count": null,
   "metadata": {},
   "outputs": [],
   "source": [
    "driver.get(url)"
   ]
  },
  {
   "cell_type": "code",
   "execution_count": null,
   "metadata": {},
   "outputs": [],
   "source": [
    "#Exiting the Login popup\n",
    "driver.find_element_by_xpath(\"//button[@class='_2KpZ6l _2doB4z']\").click()"
   ]
  },
  {
   "cell_type": "code",
   "execution_count": null,
   "metadata": {},
   "outputs": [],
   "source": [
    "#Maximise the window\n",
    "driver.maximize_window()"
   ]
  },
  {
   "cell_type": "code",
   "execution_count": null,
   "metadata": {},
   "outputs": [],
   "source": [
    "#Enter the product in the search bar\n",
    "driver.find_element_by_xpath(\"//input[@class='_3704LK']\").send_keys('laptop')"
   ]
  },
  {
   "cell_type": "code",
   "execution_count": null,
   "metadata": {},
   "outputs": [],
   "source": [
    "# click on search button\n",
    "driver.find_element_by_xpath(\"//button[@class='L0Z3Pu']\").click()\n"
   ]
  },
  {
   "cell_type": "code",
   "execution_count": null,
   "metadata": {},
   "outputs": [],
   "source": [
    "page_url=driver.current_url"
   ]
  },
  {
   "cell_type": "code",
   "execution_count": null,
   "metadata": {},
   "outputs": [],
   "source": [
    "page_url"
   ]
  },
  {
   "cell_type": "code",
   "execution_count": null,
   "metadata": {},
   "outputs": [],
   "source": [
    "#initialise the rating and review lists\n",
    "rating=[]\n",
    "review=[]\n",
    "review_summary=[]"
   ]
  },
  {
   "cell_type": "code",
   "execution_count": null,
   "metadata": {},
   "outputs": [],
   "source": [
    "#Run a for loop through the pages\n",
    "for page in range(1,21,2):\n",
    "    page_url='https://www.flipkart.com/search?q=monitor&otracker=search&otracker1=search&marketplace=FLIPKART&as-show=off&as=off&page='+str(page)\n",
    "    driver.get(page_url)\n",
    "    time.sleep(1)\n",
    "    \n",
    "    #Collect the product urls in the page\n",
    "    produrls=[]\n",
    "    produrls.extend([i.get_attribute('href') for i in driver.find_elements_by_xpath(\"//a[@class='s1Q9rs']\")])\n",
    "\n",
    "    for prod in produrls:\n",
    "        driver.get(prod)\n",
    "        time.sleep(1)\n",
    "\n",
    "        #Clicking on all reviews\n",
    "        try:\n",
    "            driver.find_element_by_xpath(\"//div[@class='_3UAT2v _16PBlm']\").click()\n",
    "            time.sleep(1)\n",
    "        except NoSuchElementException:\n",
    "            try:\n",
    "                containers=driver.find_elements_by_xpath(\"//div[contains(@class,'col _2wzgFH')]\")\n",
    "                for c in containers:\n",
    "                    rating.extend([j.text for j in c.find_elements_by_xpath(\".//div[contains(@class,'_3LWZlK _')]\")])\n",
    "                    review_summary.extend([l.text for l in c.find_elements_by_xpath(\".//p[@class='_2-N8zT']\")])\n",
    "                    review.extend([k.text for k in c.find_elements_by_xpath(\".//div[@class='t-ZTKy']\")])\n",
    "            except NoSuchElementException:\n",
    "                continue\n",
    "            finally:\n",
    "                continue\n",
    "                \n",
    "\n",
    "\n",
    "            \n",
    "\n",
    "        #Collecting and storing the review pages urls\n",
    "        revpgs=driver.find_elements_by_xpath(\"//a[contains(@class,'ge-49M')]\")\n",
    "        rev_url=[i.get_attribute('href') for i in revpgs]\n",
    "\n",
    "        for i in rev_url:\n",
    "            driver.get(i)\n",
    "            time.sleep(2)\n",
    "\n",
    "            #Scraping reviews and ratings\n",
    "            containers=driver.find_elements_by_xpath(\"//div[contains(@class,'col _2wzgFH')]\")\n",
    "            for c in containers:\n",
    "                rating.extend([j.text for j in c.find_elements_by_xpath(\".//div[contains(@class,'_3LWZlK _')]\")])\n",
    "                review_summary.extend([l.text for l in c.find_elements_by_xpath(\".//p[@class='_2-N8zT']\")])\n",
    "                review.extend([k.text for k in c.find_elements_by_xpath(\".//div[@class='t-ZTKy']\")])\n",
    "\n",
    "\n",
    "    "
   ]
  },
  {
   "cell_type": "code",
   "execution_count": null,
   "metadata": {},
   "outputs": [],
   "source": [
    "len(rating)"
   ]
  },
  {
   "cell_type": "code",
   "execution_count": null,
   "metadata": {},
   "outputs": [],
   "source": [
    "len(review)"
   ]
  },
  {
   "cell_type": "code",
   "execution_count": null,
   "metadata": {},
   "outputs": [],
   "source": [
    "len(review_summary)"
   ]
  },
  {
   "cell_type": "code",
   "execution_count": null,
   "metadata": {},
   "outputs": [],
   "source": [
    "df=pd.DataFrame()\n",
    "df['Rating']=rating\n",
    "df['Review']=review\n",
    "df['Review_Summary']=review_summary"
   ]
  },
  {
   "cell_type": "code",
   "execution_count": null,
   "metadata": {},
   "outputs": [],
   "source": [
    "df.head()"
   ]
  },
  {
   "cell_type": "code",
   "execution_count": null,
   "metadata": {},
   "outputs": [],
   "source": [
    "df.to_csv('ratinglaptop.csv')"
   ]
  },
  {
   "cell_type": "markdown",
   "metadata": {},
   "source": [
    "The above code is run for different products, data is scraped and stored in csv files."
   ]
  }
 ],
 "metadata": {
  "kernelspec": {
   "display_name": "Python 3",
   "language": "python",
   "name": "python3"
  },
  "language_info": {
   "codemirror_mode": {
    "name": "ipython",
    "version": 3
   },
   "file_extension": ".py",
   "mimetype": "text/x-python",
   "name": "python",
   "nbconvert_exporter": "python",
   "pygments_lexer": "ipython3",
   "version": "3.7.3"
  }
 },
 "nbformat": 4,
 "nbformat_minor": 2
}
